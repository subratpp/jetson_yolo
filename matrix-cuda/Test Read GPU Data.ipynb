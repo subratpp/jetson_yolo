{
 "cells": [
  {
   "cell_type": "code",
   "execution_count": 3,
   "metadata": {},
   "outputs": [],
   "source": [
    "import re\n",
    "def gpu_workload(filename): \n",
    "    avg_use = 0\n",
    "    count = 0\n",
    "    with open(filename) as fp:\n",
    "        lines = fp.readlines()\n",
    "        for line in lines:\n",
    "            gpu = re.search(r'GR3D_FREQ (.*?)%', line).group(1)\n",
    "            if int(gpu) > 0:\n",
    "                avg_use += float(gpu)\n",
    "                count +=1\n",
    "    os.remove(\"demofile.txt\")\n",
    "    return avg_use/count"
   ]
  },
  {
   "cell_type": "code",
   "execution_count": 4,
   "metadata": {},
   "outputs": [
    {
     "data": {
      "text/plain": [
       "94.85714285714286"
      ]
     },
     "execution_count": 4,
     "metadata": {},
     "output_type": "execute_result"
    }
   ],
   "source": [
    "gpu_workload(\"matmul1000.txt\")"
   ]
  }
 ],
 "metadata": {
  "kernelspec": {
   "display_name": "Python 3",
   "language": "python",
   "name": "python3"
  },
  "language_info": {
   "codemirror_mode": {
    "name": "ipython",
    "version": 3
   },
   "file_extension": ".py",
   "mimetype": "text/x-python",
   "name": "python",
   "nbconvert_exporter": "python",
   "pygments_lexer": "ipython3",
   "version": "3.7.7"
  }
 },
 "nbformat": 4,
 "nbformat_minor": 4
}
